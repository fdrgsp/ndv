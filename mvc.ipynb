{
 "cells": [
  {
   "cell_type": "code",
   "execution_count": 1,
   "metadata": {},
   "outputs": [
    {
     "data": {
      "application/vnd.jupyter.widget-view+json": {
       "model_id": "9d6de969d9034cc8aca2b4347b2ebad6",
       "version_major": 2,
       "version_minor": 0
      },
      "text/plain": [
       "RFBOutputContext()"
      ]
     },
     "metadata": {},
     "output_type": "display_data"
    },
    {
     "data": {
      "application/vnd.jupyter.widget-view+json": {
       "model_id": "1aaf69f5944841a09e09911cb8d08ff4",
       "version_major": 2,
       "version_minor": 0
      },
      "text/plain": [
       "VBox(children=(CanvasBackend(css_height='600px', css_width='600px'), VBox(children=(IntSlider(value=0, descrip…"
      ]
     },
     "metadata": {},
     "output_type": "display_data"
    }
   ],
   "source": [
    "from IPython.display import display\n",
    "\n",
    "from ndv.data import cells3d\n",
    "from ndv.v2ctl import ViewerController\n",
    "from ndv.v2view_jupyter import JupyterViewerView\n",
    "\n",
    "viewer = ViewerController(JupyterViewerView())\n",
    "model = viewer.model\n",
    "viewer.data = cells3d()\n",
    "\n",
    "display(viewer.view.layout)"
   ]
  },
  {
   "cell_type": "code",
   "execution_count": 7,
   "metadata": {},
   "outputs": [],
   "source": [
    "viewer.model.visible_axes = (0,3)"
   ]
  },
  {
   "cell_type": "code",
   "execution_count": 3,
   "metadata": {},
   "outputs": [],
   "source": [
    "viewer.model.default_lut.cmap = \"cubehelix\""
   ]
  },
  {
   "cell_type": "code",
   "execution_count": null,
   "metadata": {},
   "outputs": [],
   "source": []
  }
 ],
 "metadata": {
  "kernelspec": {
   "display_name": "Python 3 (ipykernel)",
   "language": "python",
   "name": "python3"
  },
  "language_info": {
   "codemirror_mode": {
    "name": "ipython",
    "version": 3
   },
   "file_extension": ".py",
   "mimetype": "text/x-python",
   "name": "python",
   "nbconvert_exporter": "python",
   "pygments_lexer": "ipython3",
   "version": "3.12.6"
  }
 },
 "nbformat": 4,
 "nbformat_minor": 4
}
